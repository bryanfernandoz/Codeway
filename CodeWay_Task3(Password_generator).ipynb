{
 "cells": [
  {
   "cell_type": "code",
   "execution_count": 1,
   "id": "312fd47f",
   "metadata": {},
   "outputs": [
    {
     "name": "stdout",
     "output_type": "stream",
     "text": [
      "Welcome to the Password Generator!\n",
      "Enter the length of the password: 8\n",
      "Include uppercase letters? (yes/no): yes\n",
      "Include digits? (yes/no): yes\n",
      "Include special characters? (yes/no): yes\n",
      "Generated Password: _E,u;7'.\n"
     ]
    }
   ],
   "source": [
    "import random\n",
    "import string\n",
    "\n",
    "def generate_password(length, uppercase=True, digits=True, special_characters=True):\n",
    "    characters = string.ascii_lowercase\n",
    "    if uppercase:\n",
    "        characters += string.ascii_uppercase\n",
    "    if digits:\n",
    "        characters += string.digits\n",
    "    if special_characters:\n",
    "        characters += string.punctuation\n",
    "\n",
    "    password = ''.join(random.choice(characters) for _ in range(length))\n",
    "    return password\n",
    "\n",
    "def main():\n",
    "    print(\"Welcome to the Password Generator!\")\n",
    "\n",
    "    # Get user input for password parameters\n",
    "    length = int(input(\"Enter the length of the password: \"))\n",
    "    uppercase = input(\"Include uppercase letters? (yes/no): \").lower() == 'yes'\n",
    "    digits = input(\"Include digits? (yes/no): \").lower() == 'yes'\n",
    "    special_characters = input(\"Include special characters? (yes/no): \").lower() == 'yes'\n",
    "\n",
    "    # Generate and display the password\n",
    "    password = generate_password(length, uppercase, digits, special_characters)\n",
    "    print(\"Generated Password:\", password)\n",
    "\n",
    "if __name__ == \"__main__\":\n",
    "    main()\n"
   ]
  },
  {
   "cell_type": "code",
   "execution_count": null,
   "id": "0dae4f19",
   "metadata": {},
   "outputs": [],
   "source": []
  }
 ],
 "metadata": {
  "kernelspec": {
   "display_name": "Python 3 (ipykernel)",
   "language": "python",
   "name": "python3"
  },
  "language_info": {
   "codemirror_mode": {
    "name": "ipython",
    "version": 3
   },
   "file_extension": ".py",
   "mimetype": "text/x-python",
   "name": "python",
   "nbconvert_exporter": "python",
   "pygments_lexer": "ipython3",
   "version": "3.9.7"
  }
 },
 "nbformat": 4,
 "nbformat_minor": 5
}
